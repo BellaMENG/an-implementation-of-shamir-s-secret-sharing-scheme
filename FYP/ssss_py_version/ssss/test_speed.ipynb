{
 "cells": [
  {
   "cell_type": "code",
   "execution_count": 2,
   "metadata": {
    "scrolled": false
   },
   "outputs": [
    {
     "name": "stdout",
     "output_type": "stream",
     "text": [
      "Length: 10, time is: 0.3932499885559082\n",
      "Length: 20, time is: 0.8169517517089844\n",
      "Length: 30, time is: 1.5428903102874756\n",
      "Length: 40, time is: 1.7880079746246338\n",
      "Length: 50, time is: 2.0992190837860107\n",
      "Length: 60, time is: 2.534243106842041\n",
      "Length: 70, time is: 2.8252480030059814\n",
      "Length: 80, time is: 3.6134300231933594\n",
      "Length: 90, time is: 3.6975960731506348\n",
      "Length: 100, time is: 3.9967899322509766\n"
     ]
    },
    {
     "data": {
      "image/png": "[encoded data removed]",
      "text/plain": [
       "<Figure size 432x288 with 1 Axes>"
      ]
     },
     "metadata": {
      "needs_background": "light"
     },
     "output_type": "display_data"
    }
   ],
   "source": [
    "import base64\n",
    "from split import encrypt_string\n",
    "import time\n",
    "import matplotlib.pyplot as plt\n",
    "# plt.plot([1, 2, 3, 4])\n",
    "\n",
    "\n",
    "with open(\"images/lenna.png\", \"rb\") as imageFile:\n",
    "    string = base64.b64encode(imageFile.read())\n",
    "    secret = string.decode(\"utf-8\")\n",
    "    lengths = []\n",
    "    times = []\n",
    "    for i in range(1, 11):\n",
    "        sub_sec = secret[0:10*i]\n",
    "        t1 = time.time()\n",
    "        encrypt_string(sub_sec,10,2,8)\n",
    "        t2 = time.time()\n",
    "        print(\"Length: \" + str(i*10) + \", time is:\", t2-t1)\n",
    "        lengths.append(i*10)\n",
    "        times.append(t2-t1)\n",
    "\n",
    "    plt.plot(lengths, times)\n",
    "    plt.show()\n"
   ]
  },
  {
   "cell_type": "code",
   "execution_count": null,
   "metadata": {},
   "outputs": [],
   "source": []
  }
 ],
 "metadata": {
  "kernelspec": {
   "display_name": "Python 3",
   "language": "python",
   "name": "python3"
  },
  "language_info": {
   "codemirror_mode": {
    "name": "ipython",
    "version": 3
   },
   "file_extension": ".py",
   "mimetype": "text/x-python",
   "name": "python",
   "nbconvert_exporter": "python",
   "pygments_lexer": "ipython3",
   "version": "3.7.4"
  }
 },
 "nbformat": 4,
 "nbformat_minor": 4
}
